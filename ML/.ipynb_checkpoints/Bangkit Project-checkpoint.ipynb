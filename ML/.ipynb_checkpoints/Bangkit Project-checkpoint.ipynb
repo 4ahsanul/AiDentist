{
 "cells": [
  {
   "cell_type": "code",
   "execution_count": 1,
   "id": "621dffdd",
   "metadata": {},
   "outputs": [],
   "source": [
    "import os\n",
    "import Augmentor\n",
    "import zipfile\n",
    "import random\n",
    "import zipfile\n",
    "import tensorflow as tf\n",
    "from tensorflow.keras.optimizers import RMSprop\n",
    "from tensorflow.keras.preprocessing.image import ImageDataGenerator\n",
    "from shutil import copyfile"
   ]
  },
  {
   "cell_type": "code",
   "execution_count": 2,
   "id": "ff349493",
   "metadata": {},
   "outputs": [],
   "source": [
    "local_zip = 'Discoloration.zip'\n",
    "zip_ref   = zipfile.ZipFile(local_zip, 'r')\n",
    "zip_ref.extractall('Dataset/')\n",
    "zip_ref.close()\n",
    "\n",
    "local_zip2 = 'Periodontal.zip'\n",
    "zip_ref2    = zipfile.ZipFile(local_zip2, 'r')\n",
    "zip_ref2.extractall('Dataset/') \n",
    "zip_ref2.close()"
   ]
  },
  {
   "cell_type": "code",
   "execution_count": 3,
   "id": "08689d0c",
   "metadata": {},
   "outputs": [
    {
     "name": "stdout",
     "output_type": "stream",
     "text": [
      "40\n",
      "17\n"
     ]
    }
   ],
   "source": [
    "print(len(os.listdir('Dataset/Dental Discoloration')))\n",
    "print(len(os.listdir('Dataset/Periodontal')))"
   ]
  },
  {
   "cell_type": "code",
   "execution_count": 12,
   "id": "4d7e68f5",
   "metadata": {},
   "outputs": [],
   "source": [
    "def AugmentData(source_dir, count):\n",
    "    source_dir = source_dir\n",
    "    output_dir = \".\"\n",
    "    p = Augmentor.Pipeline(source_directory=source_dir, output_directory=output_dir)\n",
    "    #p.random_distortion(probability=1, grid_width=4, grid_height=4, magnitude=1)\n",
    "    p.rotate(probability=0.001, max_left_rotation=0.001, max_right_rotation=0.001)\n",
    "    #p.zoom_random(probability=0.5, percentage_area=0.9)\n",
    "    #p.crop_random(probability=0.6, percentage_area=0.9)\n",
    "    #p.resize(probability=1.0, width=64, height=64)\n",
    "    p.sample(count)"
   ]
  },
  {
   "cell_type": "code",
   "execution_count": 14,
   "id": "1600659e",
   "metadata": {},
   "outputs": [
    {
     "name": "stdout",
     "output_type": "stream",
     "text": [
      "Initialised with 40 image(s) found.\n",
      "Output directory set to Dataset/Dental Discoloration/.."
     ]
    },
    {
     "name": "stderr",
     "output_type": "stream",
     "text": [
      "Processing <PIL.JpegImagePlugin.JpegImageFile image mode=RGB size=850x474 at 0x1E183936130>: 100%|█| 400/400 [00:00<00:\n"
     ]
    },
    {
     "name": "stdout",
     "output_type": "stream",
     "text": [
      "Initialised with 17 image(s) found.\n",
      "Output directory set to Dataset/Periodontal/.."
     ]
    },
    {
     "name": "stderr",
     "output_type": "stream",
     "text": [
      "Processing <PIL.JpegImagePlugin.JpegImageFile image mode=RGB size=275x183 at 0x1E1821DC820>: 100%|█| 400/400 [00:00<00:\n"
     ]
    }
   ],
   "source": [
    "AugmentData(\"Dataset/Discoloration/\", 400)\n",
    "AugmentData(\"Dataset/Periodontal/\", 400)"
   ]
  },
  {
   "cell_type": "code",
   "execution_count": 15,
   "id": "7a8ccb07",
   "metadata": {},
   "outputs": [
    {
     "name": "stdout",
     "output_type": "stream",
     "text": [
      "Initialised with 90 image(s) found.\n",
      "Output directory set to Dataset/Healthy/.."
     ]
    },
    {
     "name": "stderr",
     "output_type": "stream",
     "text": [
      "Processing <PIL.JpegImagePlugin.JpegImageFile image mode=RGB size=612x316 at 0x1E1821ED790>: 100%|█| 400/400 [00:00<00:\n"
     ]
    }
   ],
   "source": [
    "AugmentData(\"Dataset/Healthy/\", 400)"
   ]
  },
  {
   "cell_type": "code",
   "execution_count": 20,
   "id": "413b36da",
   "metadata": {},
   "outputs": [],
   "source": [
    "def split_data(SOURCE, TRAINING, TESTING, SPLIT_SIZE):\n",
    "    files = []\n",
    "    for filename in os.listdir(SOURCE):\n",
    "        file = SOURCE + filename\n",
    "        if os.path.getsize(file) > 0:\n",
    "            files.append(filename)\n",
    "        else:\n",
    "            print(filename + \" is zero length, so ignoring.\")\n",
    "\n",
    "    training_length = int(len(files) * SPLIT_SIZE)\n",
    "    testing_length = int(len(files) - training_length)\n",
    "    shuffled_set = random.sample(files, len(files))\n",
    "    training_set = shuffled_set[0:training_length]\n",
    "    testing_set = shuffled_set[:testing_length]\n",
    "\n",
    "    for filename in training_set:\n",
    "        this_file = SOURCE + filename\n",
    "        destination = TRAINING + filename\n",
    "        copyfile(this_file, destination)\n",
    "\n",
    "    for filename in testing_set:\n",
    "        this_file = SOURCE + filename\n",
    "        destination = TESTING + filename\n",
    "        copyfile(this_file, destination)\n",
    "\n",
    "\n",
    "Discoloration_SOURCE_DIR = \"Dataset/Dental Discoloration/\"\n",
    "Periodontal_SOURCE_DIR = \"Dataset/Periodontal/\"\n",
    "Healthy_SOURCE_DIR = \"Dataset/Healthy/\"\n",
    "\n",
    "TRAINING_Discoloration_DIR = \"Dataset_Real/training/Dental Discoloration/\"\n",
    "TRAINING_Periodontal_DIR = \"Dataset_Real/training/Periodontal/\"\n",
    "TRAINING_Healthy_DIR = \"Dataset_Real/training/Healthy/\"\n",
    "\n",
    "TESTING_Discoloration_DIR = \"Dataset_Real/testing/Dental Discoloration/\"\n",
    "TESTING_Periodontal_DIR = \"Dataset_Real/testing/Periodontal/\"\n",
    "TESTING_Healthy_DIR = \"Dataset_Real/testing/Healthy/\"\n",
    "\n",
    "split_size = .8\n",
    "split_data(Discoloration_SOURCE_DIR, TRAINING_Discoloration_DIR, TESTING_Discoloration_DIR, split_size)\n",
    "split_data(Periodontal_SOURCE_DIR, TRAINING_Periodontal_DIR, TESTING_Periodontal_DIR, split_size)\n",
    "split_data(Healthy_SOURCE_DIR, TRAINING_Healthy_DIR, TESTING_Healthy_DIR, split_size)"
   ]
  },
  {
   "cell_type": "code",
   "execution_count": null,
   "id": "ea9064a9",
   "metadata": {},
   "outputs": [],
   "source": [
    "TRAINING_DIR = \"Dataset_Real/training/\"\n",
    "# Experiment with your own parameters here to really try to drive it to 99.9% accuracy or better\n",
    "train_datagen = ImageDataGenerator(rescale=1./255,\n",
    "      rotation_range=50,\n",
    "      width_shift_range=0.2,\n",
    "      height_shift_range=0.2,\n",
    "      shear_range=0.1,\n",
    "      zoom_range=0.2,\n",
    "      horizontal_flip=True,\n",
    "      fill_mode='nearest')\n",
    "train_generator = train_datagen.flow_from_directory(TRAINING_DIR,\n",
    "                                                    batch_size=100,\n",
    "                                                    class_mode='categorical',\n",
    "                                                    target_size=(150, 150))\n",
    "\n",
    "VALIDATION_DIR = \"Dataset_Real/testing/\"\n",
    "# Experiment with your own parameters here to really try to drive it to 99.9% accuracy or better\n",
    "validation_datagen = ImageDataGenerator(rescale=1./255,\n",
    "      rotation_range=50,\n",
    "      width_shift_range=0.2,\n",
    "      height_shift_range=0.2,\n",
    "      shear_range=0.1,\n",
    "      zoom_range=0.2,\n",
    "      horizontal_flip=True,\n",
    "      fill_mode='nearest')\n",
    "validation_generator = validation_datagen.flow_from_directory(VALIDATION_DIR,\n",
    "                                                              batch_size=100,\n",
    "                                                              class_mode='categorical',\n",
    "                                                              target_size=(150, 150))\n",
    "\n",
    "# Expected Output:\n",
    "# Found 22498 images belonging to 2 classes.\n",
    "# Found 2500 images belonging to 2 classes."
   ]
  },
  {
   "cell_type": "code",
   "execution_count": null,
   "id": "9e42df06",
   "metadata": {},
   "outputs": [],
   "source": []
  },
  {
   "cell_type": "code",
   "execution_count": null,
   "id": "f23b03d1",
   "metadata": {},
   "outputs": [],
   "source": []
  },
  {
   "cell_type": "code",
   "execution_count": null,
   "id": "380eda8f",
   "metadata": {},
   "outputs": [],
   "source": []
  },
  {
   "cell_type": "code",
   "execution_count": null,
   "id": "f402578c",
   "metadata": {},
   "outputs": [],
   "source": []
  },
  {
   "cell_type": "code",
   "execution_count": null,
   "id": "5f32c633",
   "metadata": {},
   "outputs": [],
   "source": []
  },
  {
   "cell_type": "code",
   "execution_count": null,
   "id": "bc29996a",
   "metadata": {},
   "outputs": [],
   "source": []
  },
  {
   "cell_type": "code",
   "execution_count": null,
   "id": "322d005a",
   "metadata": {},
   "outputs": [],
   "source": []
  },
  {
   "cell_type": "code",
   "execution_count": null,
   "id": "74f282e7",
   "metadata": {},
   "outputs": [],
   "source": []
  }
 ],
 "metadata": {
  "kernelspec": {
   "display_name": "Bangkit",
   "language": "python",
   "name": "bangkit"
  },
  "language_info": {
   "codemirror_mode": {
    "name": "ipython",
    "version": 3
   },
   "file_extension": ".py",
   "mimetype": "text/x-python",
   "name": "python",
   "nbconvert_exporter": "python",
   "pygments_lexer": "ipython3",
   "version": "3.9.7"
  }
 },
 "nbformat": 4,
 "nbformat_minor": 5
}
